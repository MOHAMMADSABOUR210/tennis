{
  "cells": [
    {
      "cell_type": "code",
      "execution_count": null,
      "metadata": {
        "id": "y94PjJtF6pDe"
      },
      "outputs": [],
      "source": [
        "try:\n",
        "  from roboflow import Roboflow\n",
        "except:\n",
        "  !pip install roboflow\n",
        "  from roboflow import Roboflow\n",
        "\n",
        "try:\n",
        "  from ultralytics import YOLO\n",
        "except:\n",
        "  !pip install ultralytics\n",
        "  from ultralytics import YOLO\n"
      ]
    },
    {
      "cell_type": "code",
      "execution_count": null,
      "metadata": {
        "colab": {
          "base_uri": "https://localhost:8080/"
        },
        "id": "FRRXdmWP6Hlw",
        "outputId": "54b25886-e84d-42aa-cecf-addcfcaa09e1"
      },
      "outputs": [],
      "source": [
        "rf = Roboflow(api_key=\"******************\")\n",
        "project = rf.workspace(\"viren-dhanwani\").project(\"tennis-ball-detection\")\n",
        "version = project.version(6)\n",
        "dataset = version.download(\"yolov5\")\n"
      ]
    },
    {
      "cell_type": "code",
      "execution_count": null,
      "metadata": {
        "id": "WX-a66n46Ocy"
      },
      "outputs": [],
      "source": [
        "import shutil"
      ]
    },
    {
      "cell_type": "code",
      "execution_count": null,
      "metadata": {
        "id": "zFIVL2C7-o67"
      },
      "outputs": [],
      "source": [
        "# shutil.move(\"/content/tennis-ball-detection-6/train\", \"/content/tennis-ball-detection-6/tennis-ball-detection-6/train\")\n",
        "# shutil.move(\"/content/tennis-ball-detection-6/test\", \"/content/tennis-ball-detection-6/tennis-ball-detection-6/test\")\n",
        "# shutil.move(\"/content/tennis-ball-detection-6/valid \", \"/content/tennis-ball-detection-6/tennis-ball-detection-6/valid\")"
      ]
    },
    {
      "cell_type": "code",
      "execution_count": null,
      "metadata": {},
      "outputs": [],
      "source": [
        "shutil.move(\"D:/Programming/Artificial intelligence/project/tenis_yolo/training/tennis-ball-detection-6/train\", \"D:/Programming/Artificial intelligence/project/tenis_yolo/training/tennis-ball-detection-6/tennis-ball-detection-6/train\")\n",
        "shutil.move(\"D:/Programming/Artificial intelligence/project/tenis_yolo/training/tennis-ball-detection-6/test\", \"D:/Programming/Artificial intelligence/project/tenis_yolo/training/tennis-ball-detection-6/tennis-ball-detection-6/test\")\n",
        "shutil.move(\"D:/Programming/Artificial intelligence/project/tenis_yolo/training/tennis-ball-detection-6/valid \", \"D:/Programming/Artificial intelligence/project/tenis_yolo/training/tennis-ball-detection-6/tennis-ball-detection-6/valid\")\n"
      ]
    },
    {
      "cell_type": "code",
      "execution_count": null,
      "metadata": {
        "colab": {
          "base_uri": "https://localhost:8080/"
        },
        "id": "S1Fs1pTxANTX",
        "outputId": "6e49d5a0-0452-48c5-d1d7-6f2ae4902245"
      },
      "outputs": [],
      "source": [
        "!yolo task=detect mode=train model=yolov5l6u.pt data={dataset.location}/data.yaml epochs=100 imgsz=640  "
      ]
    },
    {
      "cell_type": "code",
      "execution_count": null,
      "metadata": {
        "id": "Ux7svykvJJoh"
      },
      "outputs": [],
      "source": []
    }
  ],
  "metadata": {
    "accelerator": "GPU",
    "colab": {
      "gpuType": "T4",
      "provenance": []
    },
    "kernelspec": {
      "display_name": "Python 3",
      "name": "python3"
    },
    "language_info": {
      "codemirror_mode": {
        "name": "ipython",
        "version": 3
      },
      "file_extension": ".py",
      "mimetype": "text/x-python",
      "name": "python",
      "nbconvert_exporter": "python",
      "pygments_lexer": "ipython3",
      "version": "3.12.3"
    }
  },
  "nbformat": 4,
  "nbformat_minor": 0
}
